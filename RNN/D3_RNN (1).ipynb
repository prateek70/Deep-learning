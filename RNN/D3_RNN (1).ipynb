{
 "cells": [
  {
   "cell_type": "code",
   "execution_count": 16,
   "metadata": {
    "id": "aXOM_iieAaQ6"
   },
   "outputs": [],
   "source": [
    "import numpy as np\n",
    "import matplotlib.pyplot as plt\n",
    "import pandas as pd"
   ]
  },
  {
   "cell_type": "code",
   "execution_count": 17,
   "metadata": {
    "id": "pJ1K72SMIkdh"
   },
   "outputs": [],
   "source": [
    "dataset_train = pd.read_csv('Google_Stock_Price_Train.csv')\n",
    "training_set = dataset_train.iloc[:, 1:2].values"
   ]
  },
  {
   "cell_type": "code",
   "execution_count": 18,
   "metadata": {
    "id": "ump0QGlYJvM6"
   },
   "outputs": [],
   "source": [
    "from sklearn.preprocessing import MinMaxScaler\n",
    "sc = MinMaxScaler(feature_range = (0, 1))\n",
    "training_set_scaled = sc.fit_transform(training_set)"
   ]
  },
  {
   "cell_type": "code",
   "execution_count": 19,
   "metadata": {
    "id": "Hr0HGGUjLLHe"
   },
   "outputs": [],
   "source": [
    "X_train = []\n",
    "y_train = []\n",
    "for i in range(60, 1258):\n",
    "    X_train.append(training_set_scaled[i-60:i, 0])\n",
    "    y_train.append(training_set_scaled[i, 0])\n",
    "X_train, y_train = np.array(X_train), np.array(y_train)"
   ]
  },
  {
   "cell_type": "code",
   "execution_count": 20,
   "metadata": {
    "id": "U1ioQUD5N8dX"
   },
   "outputs": [],
   "source": [
    "X_train = np.reshape(X_train, (X_train.shape[0], X_train.shape[1], 1))"
   ]
  },
  {
   "cell_type": "code",
   "execution_count": 21,
   "metadata": {
    "id": "aHZwN2ivTz1k"
   },
   "outputs": [],
   "source": [
    "from keras.models import Sequential\n",
    "from keras.layers import Dense\n",
    "from keras.layers import LSTM\n",
    "from keras.layers import Dropout"
   ]
  },
  {
   "cell_type": "code",
   "execution_count": 22,
   "metadata": {
    "id": "dCY90CaoUelp"
   },
   "outputs": [],
   "source": [
    "regressor = Sequential()"
   ]
  },
  {
   "cell_type": "code",
   "execution_count": 23,
   "metadata": {
    "id": "6Wd8FdqKUu6J"
   },
   "outputs": [],
   "source": [
    "regressor.add(LSTM(units = 50, return_sequences = True, input_shape = (X_train.shape[1], 1)))\n",
    "regressor.add(Dropout(0.2))"
   ]
  },
  {
   "cell_type": "code",
   "execution_count": 24,
   "metadata": {
    "id": "u3D5YPh6u1zh"
   },
   "outputs": [],
   "source": [
    "regressor.add(LSTM(units = 50, return_sequences = True))\n",
    "regressor.add(Dropout(0.2))"
   ]
  },
  {
   "cell_type": "code",
   "execution_count": 25,
   "metadata": {
    "id": "S1sr2nMx1l4I"
   },
   "outputs": [],
   "source": [
    "regressor.add(LSTM(units = 50, return_sequences = True))\n",
    "regressor.add(Dropout(0.2))"
   ]
  },
  {
   "cell_type": "code",
   "execution_count": 26,
   "metadata": {
    "id": "xFVsP8Gy1xVP"
   },
   "outputs": [],
   "source": [
    "regressor.add(LSTM(units = 50))\n",
    "regressor.add(Dropout(0.2))"
   ]
  },
  {
   "cell_type": "code",
   "execution_count": 27,
   "metadata": {
    "id": "ROrpBbPl2DzD"
   },
   "outputs": [],
   "source": [
    "regressor.add(Dense(units = 1))"
   ]
  },
  {
   "cell_type": "code",
   "execution_count": 28,
   "metadata": {
    "id": "nGugkyr32sOd"
   },
   "outputs": [],
   "source": [
    "regressor.compile(optimizer = 'adam', loss = 'mean_squared_error')"
   ]
  },
  {
   "cell_type": "code",
   "execution_count": 29,
   "metadata": {
    "colab": {
     "base_uri": "https://localhost:8080/"
    },
    "id": "3bAJzH_l32i4",
    "outputId": "a768c96b-0ccc-4007-ef3a-dee83d68d9e3"
   },
   "outputs": [
    {
     "name": "stdout",
     "output_type": "stream",
     "text": [
      "Epoch 1/100\n",
      "38/38 [==============================] - 13s 154ms/step - loss: 0.0331\n",
      "Epoch 2/100\n",
      "38/38 [==============================] - 5s 124ms/step - loss: 0.0065\n",
      "Epoch 3/100\n",
      "38/38 [==============================] - 5s 121ms/step - loss: 0.0055\n",
      "Epoch 4/100\n",
      "38/38 [==============================] - 6s 151ms/step - loss: 0.0052\n",
      "Epoch 5/100\n",
      "38/38 [==============================] - 5s 125ms/step - loss: 0.0048\n",
      "Epoch 6/100\n",
      "38/38 [==============================] - 6s 153ms/step - loss: 0.0054\n",
      "Epoch 7/100\n",
      "38/38 [==============================] - 5s 121ms/step - loss: 0.0047\n",
      "Epoch 8/100\n",
      "38/38 [==============================] - 5s 122ms/step - loss: 0.0044\n",
      "Epoch 9/100\n",
      "38/38 [==============================] - 6s 153ms/step - loss: 0.0050\n",
      "Epoch 10/100\n",
      "38/38 [==============================] - 5s 122ms/step - loss: 0.0047\n",
      "Epoch 11/100\n",
      "38/38 [==============================] - 7s 176ms/step - loss: 0.0045\n",
      "Epoch 12/100\n",
      "38/38 [==============================] - 6s 144ms/step - loss: 0.0040\n",
      "Epoch 13/100\n",
      "38/38 [==============================] - 5s 123ms/step - loss: 0.0046\n",
      "Epoch 14/100\n",
      "38/38 [==============================] - 6s 172ms/step - loss: 0.0043\n",
      "Epoch 15/100\n",
      "38/38 [==============================] - 5s 120ms/step - loss: 0.0042\n",
      "Epoch 16/100\n",
      "38/38 [==============================] - 6s 153ms/step - loss: 0.0039\n",
      "Epoch 17/100\n",
      "38/38 [==============================] - 5s 122ms/step - loss: 0.0036\n",
      "Epoch 18/100\n",
      "38/38 [==============================] - 5s 119ms/step - loss: 0.0039\n",
      "Epoch 19/100\n",
      "38/38 [==============================] - 6s 154ms/step - loss: 0.0039\n",
      "Epoch 20/100\n",
      "38/38 [==============================] - 6s 155ms/step - loss: 0.0033\n",
      "Epoch 21/100\n",
      "38/38 [==============================] - 6s 156ms/step - loss: 0.0032\n",
      "Epoch 22/100\n",
      "38/38 [==============================] - 5s 122ms/step - loss: 0.0034\n",
      "Epoch 23/100\n",
      "38/38 [==============================] - 5s 136ms/step - loss: 0.0036\n",
      "Epoch 24/100\n",
      "38/38 [==============================] - 5s 139ms/step - loss: 0.0029\n",
      "Epoch 25/100\n",
      "38/38 [==============================] - 5s 122ms/step - loss: 0.0032\n",
      "Epoch 26/100\n",
      "38/38 [==============================] - 6s 154ms/step - loss: 0.0032\n",
      "Epoch 27/100\n",
      "38/38 [==============================] - 5s 120ms/step - loss: 0.0033\n",
      "Epoch 28/100\n",
      "38/38 [==============================] - 5s 138ms/step - loss: 0.0033\n",
      "Epoch 29/100\n",
      "38/38 [==============================] - 5s 133ms/step - loss: 0.0031\n",
      "Epoch 30/100\n",
      "38/38 [==============================] - 5s 124ms/step - loss: 0.0029\n",
      "Epoch 31/100\n",
      "38/38 [==============================] - 6s 158ms/step - loss: 0.0027\n",
      "Epoch 32/100\n",
      "38/38 [==============================] - 5s 126ms/step - loss: 0.0032\n",
      "Epoch 33/100\n",
      "38/38 [==============================] - 6s 145ms/step - loss: 0.0033\n",
      "Epoch 34/100\n",
      "38/38 [==============================] - 5s 131ms/step - loss: 0.0035\n",
      "Epoch 35/100\n",
      "38/38 [==============================] - 5s 119ms/step - loss: 0.0030\n",
      "Epoch 36/100\n",
      "38/38 [==============================] - 6s 156ms/step - loss: 0.0031\n",
      "Epoch 37/100\n",
      "38/38 [==============================] - 5s 125ms/step - loss: 0.0027\n",
      "Epoch 38/100\n",
      "38/38 [==============================] - 5s 143ms/step - loss: 0.0029\n",
      "Epoch 39/100\n",
      "38/38 [==============================] - 5s 134ms/step - loss: 0.0030\n",
      "Epoch 40/100\n",
      "38/38 [==============================] - 5s 123ms/step - loss: 0.0028\n",
      "Epoch 41/100\n",
      "38/38 [==============================] - 6s 160ms/step - loss: 0.0027\n",
      "Epoch 42/100\n",
      "38/38 [==============================] - 5s 123ms/step - loss: 0.0025\n",
      "Epoch 43/100\n",
      "38/38 [==============================] - 6s 157ms/step - loss: 0.0028\n",
      "Epoch 44/100\n",
      "38/38 [==============================] - 5s 123ms/step - loss: 0.0025\n",
      "Epoch 45/100\n",
      "38/38 [==============================] - 5s 121ms/step - loss: 0.0025\n",
      "Epoch 46/100\n",
      "38/38 [==============================] - 6s 153ms/step - loss: 0.0026\n",
      "Epoch 47/100\n",
      "38/38 [==============================] - 5s 123ms/step - loss: 0.0027\n",
      "Epoch 48/100\n",
      "38/38 [==============================] - 6s 156ms/step - loss: 0.0024\n",
      "Epoch 49/100\n",
      "38/38 [==============================] - 5s 121ms/step - loss: 0.0023\n",
      "Epoch 50/100\n",
      "38/38 [==============================] - 5s 123ms/step - loss: 0.0026\n",
      "Epoch 51/100\n",
      "38/38 [==============================] - 6s 153ms/step - loss: 0.0023\n",
      "Epoch 52/100\n",
      "38/38 [==============================] - 5s 122ms/step - loss: 0.0021\n",
      "Epoch 53/100\n",
      "38/38 [==============================] - 6s 148ms/step - loss: 0.0026\n",
      "Epoch 54/100\n",
      "38/38 [==============================] - 5s 127ms/step - loss: 0.0024\n",
      "Epoch 55/100\n",
      "38/38 [==============================] - 5s 123ms/step - loss: 0.0022\n",
      "Epoch 56/100\n",
      "38/38 [==============================] - 6s 153ms/step - loss: 0.0022\n",
      "Epoch 57/100\n",
      "38/38 [==============================] - 5s 123ms/step - loss: 0.0025\n",
      "Epoch 58/100\n",
      "38/38 [==============================] - 6s 152ms/step - loss: 0.0025\n",
      "Epoch 59/100\n",
      "38/38 [==============================] - 5s 123ms/step - loss: 0.0021\n",
      "Epoch 60/100\n",
      "38/38 [==============================] - 5s 119ms/step - loss: 0.0019\n",
      "Epoch 61/100\n",
      "38/38 [==============================] - 6s 152ms/step - loss: 0.0020\n",
      "Epoch 62/100\n",
      "38/38 [==============================] - 5s 120ms/step - loss: 0.0019\n",
      "Epoch 63/100\n",
      "38/38 [==============================] - 5s 134ms/step - loss: 0.0019\n",
      "Epoch 64/100\n",
      "38/38 [==============================] - 5s 134ms/step - loss: 0.0020\n",
      "Epoch 65/100\n",
      "38/38 [==============================] - 6s 146ms/step - loss: 0.0020\n",
      "Epoch 66/100\n",
      "38/38 [==============================] - 6s 166ms/step - loss: 0.0024\n",
      "Epoch 67/100\n",
      "38/38 [==============================] - 5s 124ms/step - loss: 0.0020\n",
      "Epoch 68/100\n",
      "38/38 [==============================] - 6s 158ms/step - loss: 0.0020\n",
      "Epoch 69/100\n",
      "38/38 [==============================] - 5s 133ms/step - loss: 0.0020\n",
      "Epoch 70/100\n",
      "38/38 [==============================] - 6s 163ms/step - loss: 0.0022\n",
      "Epoch 71/100\n",
      "38/38 [==============================] - 5s 131ms/step - loss: 0.0018\n",
      "Epoch 72/100\n",
      "38/38 [==============================] - 5s 124ms/step - loss: 0.0017\n",
      "Epoch 73/100\n",
      "38/38 [==============================] - 6s 158ms/step - loss: 0.0019\n",
      "Epoch 74/100\n",
      "38/38 [==============================] - 5s 122ms/step - loss: 0.0018\n",
      "Epoch 75/100\n",
      "38/38 [==============================] - 5s 141ms/step - loss: 0.0018\n",
      "Epoch 76/100\n",
      "38/38 [==============================] - 5s 134ms/step - loss: 0.0021\n",
      "Epoch 77/100\n",
      "38/38 [==============================] - 5s 124ms/step - loss: 0.0023\n",
      "Epoch 78/100\n",
      "38/38 [==============================] - 6s 160ms/step - loss: 0.0017\n",
      "Epoch 79/100\n",
      "38/38 [==============================] - 5s 126ms/step - loss: 0.0017\n",
      "Epoch 80/100\n",
      "38/38 [==============================] - 6s 151ms/step - loss: 0.0018\n",
      "Epoch 81/100\n",
      "38/38 [==============================] - 5s 128ms/step - loss: 0.0019\n",
      "Epoch 82/100\n",
      "38/38 [==============================] - 5s 119ms/step - loss: 0.0018\n",
      "Epoch 83/100\n",
      "38/38 [==============================] - 6s 154ms/step - loss: 0.0017\n",
      "Epoch 84/100\n",
      "38/38 [==============================] - 5s 123ms/step - loss: 0.0018\n",
      "Epoch 85/100\n",
      "38/38 [==============================] - 6s 151ms/step - loss: 0.0015\n",
      "Epoch 86/100\n",
      "38/38 [==============================] - 5s 131ms/step - loss: 0.0018\n",
      "Epoch 87/100\n",
      "38/38 [==============================] - 5s 127ms/step - loss: 0.0018\n",
      "Epoch 88/100\n",
      "38/38 [==============================] - 6s 158ms/step - loss: 0.0019\n",
      "Epoch 89/100\n",
      "38/38 [==============================] - 5s 122ms/step - loss: 0.0018\n",
      "Epoch 90/100\n",
      "38/38 [==============================] - 6s 154ms/step - loss: 0.0017\n",
      "Epoch 91/100\n",
      "38/38 [==============================] - 5s 124ms/step - loss: 0.0017\n",
      "Epoch 92/100\n",
      "38/38 [==============================] - 5s 122ms/step - loss: 0.0016\n",
      "Epoch 93/100\n",
      "38/38 [==============================] - 6s 154ms/step - loss: 0.0015\n",
      "Epoch 94/100\n",
      "38/38 [==============================] - 5s 123ms/step - loss: 0.0014\n",
      "Epoch 95/100\n",
      "38/38 [==============================] - 6s 153ms/step - loss: 0.0015\n",
      "Epoch 96/100\n",
      "38/38 [==============================] - 5s 122ms/step - loss: 0.0014\n",
      "Epoch 97/100\n",
      "38/38 [==============================] - 5s 123ms/step - loss: 0.0015\n",
      "Epoch 98/100\n",
      "38/38 [==============================] - 6s 156ms/step - loss: 0.0016\n",
      "Epoch 99/100\n",
      "38/38 [==============================] - 5s 127ms/step - loss: 0.0014\n",
      "Epoch 100/100\n",
      "38/38 [==============================] - 6s 161ms/step - loss: 0.0014\n"
     ]
    },
    {
     "data": {
      "text/plain": [
       "<keras.callbacks.History at 0x7a3c60406a40>"
      ]
     },
     "execution_count": 29,
     "metadata": {},
     "output_type": "execute_result"
    }
   ],
   "source": [
    "regressor.fit(X_train, y_train, epochs = 100,  batch_size = 32)"
   ]
  },
  {
   "cell_type": "code",
   "execution_count": 30,
   "metadata": {
    "id": "OFeOFm305D6T"
   },
   "outputs": [],
   "source": [
    "dataset_test = pd.read_csv('Google_Stock_Price_Test.csv')\n",
    "real_stock_price = dataset_test.iloc[:, 1:2].values"
   ]
  },
  {
   "cell_type": "code",
   "execution_count": 31,
   "metadata": {
    "id": "w8sf5wjn_kYL"
   },
   "outputs": [],
   "source": [
    "dataset_total = pd.concat((dataset_train['Open'], dataset_test['Open']), axis = 0)\n",
    "inputs = dataset_total[len(dataset_total) - len(dataset_test) - 60:].values\n",
    "inputs = inputs.reshape(-1,1)\n",
    "inputs_scaled = sc.transform(inputs)"
   ]
  },
  {
   "cell_type": "code",
   "execution_count": 32,
   "metadata": {
    "id": "5x8EobwhFAqu"
   },
   "outputs": [],
   "source": [
    "X_test = []\n",
    "for i in range(60, 80):\n",
    "    X_test.append(inputs_scaled[i-60:i, 0])\n",
    "X_test = np.array(X_test)\n",
    "X_test = np.reshape(X_test, (X_test.shape[0], X_test.shape[1], 1))"
   ]
  },
  {
   "cell_type": "code",
   "execution_count": 33,
   "metadata": {
    "colab": {
     "base_uri": "https://localhost:8080/"
    },
    "id": "1k_ewRtPGHlE",
    "outputId": "25c1e08a-568a-41e4-f1d4-88c114cdb59e"
   },
   "outputs": [
    {
     "name": "stdout",
     "output_type": "stream",
     "text": [
      "1/1 [==============================] - 2s 2s/step\n"
     ]
    }
   ],
   "source": [
    "predicted_stock_price = regressor.predict(X_test)\n",
    "predicted_stock_price = sc.inverse_transform(predicted_stock_price)"
   ]
  },
  {
   "cell_type": "code",
   "execution_count": 34,
   "metadata": {
    "colab": {
     "base_uri": "https://localhost:8080/"
    },
    "id": "NobEqE_XGpWi",
    "outputId": "7e9f1ad1-2043-4c65-83b5-4f020adc5063"
   },
   "outputs": [
    {
     "name": "stdout",
     "output_type": "stream",
     "text": [
      "[[769.5845 ]\n",
      " [767.3714 ]\n",
      " [766.8062 ]\n",
      " [767.46313]\n",
      " [770.0164 ]\n",
      " [775.0295 ]\n",
      " [780.65405]\n",
      " [784.4666 ]\n",
      " [786.29675]\n",
      " [786.6793 ]\n",
      " [786.2466 ]\n",
      " [785.4094 ]\n",
      " [784.5483 ]\n",
      " [784.2888 ]\n",
      " [784.67053]\n",
      " [787.8634 ]\n",
      " [793.63727]\n",
      " [800.87787]\n",
      " [806.5025 ]\n",
      " [806.05646]]\n"
     ]
    }
   ],
   "source": [
    "print(predicted_stock_price)"
   ]
  },
  {
   "cell_type": "code",
   "execution_count": 35,
   "metadata": {
    "colab": {
     "base_uri": "https://localhost:8080/",
     "height": 472
    },
    "id": "l_eXyQZHGukH",
    "outputId": "1ab0b1d9-a6db-4267-99ad-b58bbb34546d"
   },
   "outputs": [
    {
     "data": {
      "image/png": "[encoded data removed]",
      "text/plain": [
       "<Figure size 640x480 with 1 Axes>"
      ]
     },
     "metadata": {},
     "output_type": "display_data"
    }
   ],
   "source": [
    "plt.plot(real_stock_price, color = 'red', label = 'real google stock price')\n",
    "plt.plot(predicted_stock_price, color = 'blue', label = 'predicted google stock price')\n",
    "plt.title('google stock price pred')\n",
    "plt.xlabel('time')\n",
    "plt.ylabel('google stock pr')\n",
    "plt.legend()\n",
    "plt.show()"
   ]
  },
  {
   "cell_type": "code",
   "execution_count": 36,
   "metadata": {
    "id": "mEYsoFR_IEJU"
   },
   "outputs": [],
   "source": [
    "import math\n",
    "from sklearn.metrics import mean_squared_error\n",
    "rmse = math.sqrt(mean_squared_error(real_stock_price, predicted_stock_price))"
   ]
  },
  {
   "cell_type": "code",
   "execution_count": 37,
   "metadata": {
    "colab": {
     "base_uri": "https://localhost:8080/"
    },
    "id": "-V6qfZ56JvoG",
    "outputId": "a466f0e2-e999-4ff9-bd2c-1a9601f98601"
   },
   "outputs": [
    {
     "name": "stdout",
     "output_type": "stream",
     "text": [
      "26.69097162609789\n"
     ]
    }
   ],
   "source": [
    "print(rmse)"
   ]
  },
  {
   "cell_type": "code",
   "execution_count": null,
   "metadata": {
    "id": "bLA4vbSyJzCn"
   },
   "outputs": [],
   "source": []
  }
 ],
 "metadata": {
  "colab": {
   "provenance": []
  },
  "kernelspec": {
   "display_name": "Python 3",
   "name": "python3"
  },
  "language_info": {
   "name": "python"
  }
 },
 "nbformat": 4,
 "nbformat_minor": 0
}
